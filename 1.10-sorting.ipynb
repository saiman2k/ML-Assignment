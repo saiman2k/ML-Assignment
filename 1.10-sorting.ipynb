{
 "cells": [
  {
   "cell_type": "code",
   "execution_count": 2,
   "metadata": {},
   "outputs": [
    {
     "name": "stdout",
     "output_type": "stream",
     "text": [
      "       col2      col1\n",
      "0 -0.649145  1.852753\n",
      "1 -1.791812  0.741796\n",
      "2 -0.570972 -1.142885\n",
      "3  0.145356  1.247424\n",
      "4  0.083473  2.178397\n",
      "5 -0.337191  1.156953\n",
      "6  0.079949  0.539429\n",
      "7 -0.008494  0.008303\n",
      "8  1.173951  0.957320\n",
      "9  0.680587  0.727945\n"
     ]
    }
   ],
   "source": [
    "#By Label\n",
    "import pandas as pd\n",
    "import numpy as np\n",
    "\n",
    "unsorted_df = pd.DataFrame(np.random.randn(10,2),index=[1,4,6,2,3,5,9,8,0,7],columns = ['col2','col1'])\n",
    "\n",
    "sorted_df=unsorted_df.sort_index()\n",
    "print(sorted_df)"
   ]
  },
  {
   "cell_type": "code",
   "execution_count": 3,
   "metadata": {},
   "outputs": [
    {
     "name": "stdout",
     "output_type": "stream",
     "text": [
      "       col2      col1\n",
      "9  1.928434 -0.093800\n",
      "8 -1.110618  1.663495\n",
      "7 -0.256696 -0.057789\n",
      "6  0.165595  0.036171\n",
      "5 -0.873509 -1.322550\n",
      "4  0.309638  0.758663\n",
      "3 -0.325459  0.623413\n",
      "2 -0.572933 -1.506593\n",
      "1 -1.090767 -1.253852\n",
      "0  0.339008 -0.303717\n"
     ]
    }
   ],
   "source": [
    "#order of sorting\n",
    "import pandas as pd\n",
    "import numpy as np\n",
    "\n",
    "unsorted_df = pd.DataFrame(np.random.randn(10,2),index=[1,4,6,2,3,5,9,8,0,7],columns = ['col2','col1'])\n",
    "\n",
    "sorted_df = unsorted_df.sort_index(ascending=False)\n",
    "print(sorted_df)"
   ]
  },
  {
   "cell_type": "code",
   "execution_count": 4,
   "metadata": {},
   "outputs": [
    {
     "name": "stdout",
     "output_type": "stream",
     "text": [
      "       col1      col2\n",
      "1 -0.465424 -1.110292\n",
      "4  0.132631 -2.235415\n",
      "6  1.478549 -0.400111\n",
      "2 -1.089211  0.941333\n",
      "3 -0.750298 -0.329027\n",
      "5  1.273688  1.010760\n",
      "9 -0.508341  0.910389\n",
      "8  0.454581  0.642990\n",
      "0  0.628692  0.543206\n",
      "7 -1.305768 -0.276082\n"
     ]
    }
   ],
   "source": [
    "#column sort\n",
    "import pandas as pd\n",
    "import numpy as np\n",
    " \n",
    "unsorted_df = pd.DataFrame(np.random.randn(10,2),index=[1,4,6,2,3,5,9,8,0,7],columns = ['col2','col1'])\n",
    " \n",
    "sorted_df=unsorted_df.sort_index(axis=1)\n",
    "\n",
    "print(sorted_df)"
   ]
  },
  {
   "cell_type": "code",
   "execution_count": 6,
   "metadata": {},
   "outputs": [
    {
     "name": "stdout",
     "output_type": "stream",
     "text": [
      "   col1  col2\n",
      "1     1     3\n",
      "2     1     2\n",
      "3     1     4\n",
      "0     2     1\n"
     ]
    }
   ],
   "source": [
    "#value sorting\n",
    "import pandas as pd\n",
    "import numpy as np\n",
    "\n",
    "unsorted_df = pd.DataFrame({'col1':[2,1,1,1],'col2':[1,3,2,4]})\n",
    "sorted_df = unsorted_df.sort_values(by='col1')\n",
    "\n",
    "print(sorted_df)"
   ]
  }
 ],
 "metadata": {
  "kernelspec": {
   "display_name": "Python 3",
   "language": "python",
   "name": "python3"
  },
  "language_info": {
   "codemirror_mode": {
    "name": "ipython",
    "version": 3
   },
   "file_extension": ".py",
   "mimetype": "text/x-python",
   "name": "python",
   "nbconvert_exporter": "python",
   "pygments_lexer": "ipython3",
   "version": "3.8.3"
  }
 },
 "nbformat": 4,
 "nbformat_minor": 4
}
