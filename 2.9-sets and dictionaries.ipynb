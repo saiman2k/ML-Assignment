{
 "cells": [
  {
   "cell_type": "code",
   "execution_count": 1,
   "metadata": {},
   "outputs": [
    {
     "name": "stdout",
     "output_type": "stream",
     "text": [
      "<class 'set'>\n",
      "{'jan', 'march', 'aprl', 'feb'}\n",
      "jan\n",
      "march\n",
      "aprl\n",
      "feb\n",
      "{'may', 'march', 'jan', 'aprl', 'feb'}\n",
      "{'may', 'july', 'march', 'june', 'jan', 'aprl', 'feb'}\n",
      "{'may', 'july', 'march', 'june', 'aprl'}\n",
      "Union:\n",
      "{1, 2, 3, 4, 5, 6, 7, 8, 9}\n",
      "Intersection:\n",
      "{4, 5, 6}\n",
      "difference between m1 and m2:\n",
      "{1, 2, 3}\n"
     ]
    }
   ],
   "source": [
    "#SETS\n",
    "m={\"jan\",\"feb\",\"march\",\"aprl\"}\n",
    "print(type(m))\n",
    "print(m)\n",
    "#printing using loops\n",
    "for i in m:\n",
    "    print(i)\n",
    "#using add method\n",
    "m.add(\"may\")\n",
    "print(m)\n",
    "#using update function\n",
    "m.update([\"june\",\"july\"])\n",
    "print(m)\n",
    "#using remove and discard\n",
    "m.discard(\"jan\")\n",
    "m.remove(\"feb\")\n",
    "print(m)\n",
    "m1={1,2,3,4,5,6}\n",
    "m2={4,5,6,7,8,9}\n",
    "#Union,Intersection and Difference\n",
    "print(\"Union:\")\n",
    "print(m1|m2)\n",
    "print('Intersection:')\n",
    "print(m1&m2)\n",
    "print('difference between m1 and m2:')\n",
    "print(m1-m2)"
   ]
  },
  {
   "cell_type": "code",
   "execution_count": 2,
   "metadata": {},
   "outputs": [
    {
     "name": "stdout",
     "output_type": "stream",
     "text": [
      "{'Name': 'sainadh', 'Age': '20', 'Id': '13'}\n",
      "{1: 'Akula', 2: 'SAinadh', 3: '13'}\n",
      "first_Name: sainadh\n",
      "Age: 20\n",
      "Id: 13\n",
      "{'Name': 'sainadh', 'Age': '20', 'Id': '13', 1: '25'}\n",
      "{'Name': 'sainadh', 'Age': '20', 'Id': '13'}\n",
      "Name\n",
      "sainadh\n",
      "Age\n",
      "20\n",
      "Id\n",
      "13\n"
     ]
    }
   ],
   "source": [
    "#dictionaries\n",
    "d={\"Name\":\"sainadh\",\"Age\":\"20\",\"Id\":\"13\"}\n",
    "#creating with dict() keyword\n",
    "d1=dict({1:\"Akula\",2:\"SAinadh\",3:\"13\"})\n",
    "print(d)\n",
    "print(d1)\n",
    "#accessing the values of the dictionary\n",
    "print(\"first_Name: %s\"% d[\"Name\"])\n",
    "print(\"Age: %s\"% d[\"Age\"])\n",
    "print(\"Id: %s\"% d[\"Id\"])\n",
    "#adding elements to the dictionary\n",
    "d[1]=\"25\"\n",
    "print(d)\n",
    "#deleting elements\n",
    "del d[1]\n",
    "print(d)\n",
    "for i in d:\n",
    "    print(i)\n",
    "    print(d[i])\n"
   ]
  },
  {
   "cell_type": "code",
   "execution_count": null,
   "metadata": {},
   "outputs": [],
   "source": []
  }
 ],
 "metadata": {
  "kernelspec": {
   "display_name": "Python 3",
   "language": "python",
   "name": "python3"
  },
  "language_info": {
   "codemirror_mode": {
    "name": "ipython",
    "version": 3
   },
   "file_extension": ".py",
   "mimetype": "text/x-python",
   "name": "python",
   "nbconvert_exporter": "python",
   "pygments_lexer": "ipython3",
   "version": "3.8.3"
  }
 },
 "nbformat": 4,
 "nbformat_minor": 4
}
