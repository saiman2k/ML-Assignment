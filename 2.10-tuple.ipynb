{
 "cells": [
  {
   "cell_type": "code",
   "execution_count": 2,
   "metadata": {},
   "outputs": [
    {
     "name": "stdout",
     "output_type": "stream",
     "text": [
      "(1, 2, 3)\n",
      "tuple[0]= 1\n",
      "tuple[1]= 2\n",
      "tuple[2]= 3\n",
      "sainadh6013akula2000saiman2k\n",
      "('s', 'a', 'i', 'n', 'a', 'd', 'h', '6', '0', '1', '3', 'a', 'k', 'u', 'l', 'a', '2', '0', '0', '0', 's', 'a', 'i', 'm', 'a', 'n', '2', 'k')\n",
      "tuple[0]=s\n",
      "tuple[1]=a\n",
      "tuple[2]=i\n",
      "tuple[3]=n\n",
      "tuple[4]=a\n",
      "tuple[5]=d\n",
      "tuple[6]=h\n",
      "tuple[7]=6\n",
      "tuple[8]=0\n",
      "tuple[9]=1\n",
      "tuple[10]=3\n",
      "tuple[11]=a\n",
      "tuple[12]=k\n",
      "tuple[13]=u\n",
      "tuple[14]=l\n",
      "tuple[15]=a\n",
      "tuple[16]=2\n",
      "tuple[17]=0\n",
      "tuple[18]=0\n",
      "tuple[19]=0\n",
      "tuple[20]=s\n",
      "tuple[21]=a\n",
      "tuple[22]=i\n",
      "tuple[23]=m\n",
      "tuple[24]=a\n",
      "tuple[25]=n\n",
      "tuple[26]=2\n",
      "tuple[27]=k\n",
      "('i', 'n')\n"
     ]
    }
   ],
   "source": [
    "#Tuple\n",
    "t =(1,2,3)\n",
    "print(t)\n",
    "c=0\n",
    "for i in t:\n",
    "    print(\"tuple[%d]= %d\"%(c,i))\n",
    "    c=c+1\n",
    "#taking elements as input\n",
    "t1=tuple(input())\n",
    "print(t1)\n",
    "c=0\n",
    "for i in t1:\n",
    "    print(\"tuple[%d]=%s\"%(c,i))\n",
    "    c=c+1\n",
    "#tuple indexing\n",
    "print(t1[2:4])"
   ]
  },
  {
   "cell_type": "code",
   "execution_count": null,
   "metadata": {},
   "outputs": [],
   "source": [
    "\n"
   ]
  },
  {
   "cell_type": "code",
   "execution_count": null,
   "metadata": {},
   "outputs": [],
   "source": []
  }
 ],
 "metadata": {
  "kernelspec": {
   "display_name": "Python 3",
   "language": "python",
   "name": "python3"
  },
  "language_info": {
   "codemirror_mode": {
    "name": "ipython",
    "version": 3
   },
   "file_extension": ".py",
   "mimetype": "text/x-python",
   "name": "python",
   "nbconvert_exporter": "python",
   "pygments_lexer": "ipython3",
   "version": "3.8.3"
  }
 },
 "nbformat": 4,
 "nbformat_minor": 4
}
