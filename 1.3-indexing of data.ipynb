{
 "cells": [
  {
   "cell_type": "code",
   "execution_count": 8,
   "metadata": {},
   "outputs": [
    {
     "name": "stdout",
     "output_type": "stream",
     "text": [
      "        Item  Quantity(kg)  Cost\n",
      "s.no                            \n",
      "1       Rice             1    50\n",
      "2     Tomato             1    35\n",
      "3       Daal             1    80\n",
      "4       salt             1    20\n",
      "           Item  Quantity(kg)  Cost\n",
      "s.no                               \n",
      "5           Oil             1   120\n",
      "6     Groundnut             1   150\n",
      "           Item  Quantity(kg)  Cost\n",
      "s.no                               \n",
      "1          Rice             1    50\n",
      "2        Tomato             1    35\n",
      "3          Daal             1    80\n",
      "4          salt             1    20\n",
      "5           Oil             1   120\n",
      "6     Groundnut             1   150\n",
      "Item            Daal\n",
      "Quantity(kg)       1\n",
      "Cost              80\n",
      "Name: 3, dtype: object\n",
      "       Item  Quantity(kg)  Cost\n",
      "s.no                           \n",
      "1      Rice             1    50\n",
      "10    sugar             1    50\n"
     ]
    }
   ],
   "source": [
    "# Import cars data\n",
    "import pandas as pd\n",
    "df = pd.read_csv('commodities.csv', index_col = 0)\n",
    "# Print out first 4 observations\n",
    "print(df[0:4])\n",
    "# Print out fifth and sixth observation\n",
    "print(df[4:6])\n",
    "#print till the required number\n",
    "print(df[:6])\n",
    "# Print out observation for 3rd element\n",
    "print(df.iloc[2])\n",
    "# Print out observations for rice and sugar\n",
    "print(df.loc[[1, 10]])\n"
   ]
  }
 ],
 "metadata": {
  "kernelspec": {
   "display_name": "Python 3",
   "language": "python",
   "name": "python3"
  },
  "language_info": {
   "codemirror_mode": {
    "name": "ipython",
    "version": 3
   },
   "file_extension": ".py",
   "mimetype": "text/x-python",
   "name": "python",
   "nbconvert_exporter": "python",
   "pygments_lexer": "ipython3",
   "version": "3.8.3"
  }
 },
 "nbformat": 4,
 "nbformat_minor": 4
}
