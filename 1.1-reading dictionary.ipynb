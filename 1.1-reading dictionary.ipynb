{
 "cells": [
  {
   "cell_type": "code",
   "execution_count": 7,
   "metadata": {},
   "outputs": [
    {
     "name": "stdout",
     "output_type": "stream",
     "text": [
      "   subjects credits             assgn  time\n",
      "0        Os       3   scheduling algo    40\n",
      "1      DBMS       3           databse    40\n",
      "2      Unix       3        kernel ops    40\n",
      "3  Networks       4  packet switching    60\n",
      "4      Oops       3       inheritance    40\n",
      "After indexing:\n",
      "   subjects credits             assgn  time\n",
      "1        Os       3   scheduling algo    40\n",
      "2      DBMS       3           databse    40\n",
      "3      Unix       3        kernel ops    40\n",
      "4  Networks       4  packet switching    60\n",
      "5      Oops       3       inheritance    40\n"
     ]
    }
   ],
   "source": [
    "dict = {\"subjects\": [\"Os\", \"DBMS\", \"Unix\", \"Networks\", \"Oops\"],\n",
    "       \"credits\": [\"3\", \"3\", \"3\", \"4\", \"3\"],\n",
    "       \"assgn\": [\"scheduling algo\", \"databse\", \"kernel ops\", \"packet switching\", \"inheritance\"],\n",
    "       \"time\": [40, 40, 40, 60, 40] }\n",
    "\n",
    "import pandas as pd\n",
    "a = pd.DataFrame(dict)\n",
    "print(a)\n",
    "print(\"After indexing:\")\n",
    "a.index=[1,2,3,4,5]\n",
    "print(a)"
   ]
  }
 ],
 "metadata": {
  "kernelspec": {
   "display_name": "Python 3",
   "language": "python",
   "name": "python3"
  },
  "language_info": {
   "codemirror_mode": {
    "name": "ipython",
    "version": 3
   },
   "file_extension": ".py",
   "mimetype": "text/x-python",
   "name": "python",
   "nbconvert_exporter": "python",
   "pygments_lexer": "ipython3",
   "version": "3.8.3"
  }
 },
 "nbformat": 4,
 "nbformat_minor": 4
}
