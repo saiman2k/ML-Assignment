{
 "cells": [
  {
   "cell_type": "code",
   "execution_count": 1,
   "metadata": {},
   "outputs": [
    {
     "name": "stdout",
     "output_type": "stream",
     "text": [
      "               Name  Age  Rating\n",
      "0               sai   18    9.73\n",
      "1              nadh   20    6.84\n",
      "2            saiman   21    5.98\n",
      "3          saiman2k   19    8.56\n",
      "4        saiman2kak   20    7.20\n",
      "5             akula   10    9.60\n",
      "6     sainadh akula   22    5.80\n",
      "7             manju   18    8.78\n",
      "8              nadh   19    9.98\n",
      "9       akula manju   22    6.80\n",
      "10      saiman2ka3k   21    8.10\n",
      "11  manjunadh akula   20    9.65\n"
     ]
    }
   ],
   "source": [
    "#data for doing the statistics operations\n",
    "import pandas as pd\n",
    "import numpy as np\n",
    "#Create a Dictionary of series\n",
    "d = {'Name':pd.Series(['sai','nadh','saiman','saiman2k','saiman2kak','akula','sainadh akula',\n",
    "   'manju','nadh','akula manju','saiman2ka3k','manjunadh akula']),\n",
    "   'Age':pd.Series([18,20,21,19,20,10,22,18,19,22,21,20]),\n",
    "   'Rating':pd.Series([9.73,6.84,5.98,8.56,7.20,9.6,5.8,8.78,9.98,6.80,8.10,9.65])\n",
    "}\n",
    "#Create a DataFrame\n",
    "df = pd.DataFrame(d)\n",
    "print(df)"
   ]
  },
  {
   "cell_type": "code",
   "execution_count": 2,
   "metadata": {},
   "outputs": [
    {
     "name": "stdout",
     "output_type": "stream",
     "text": [
      "Name      sainadhsaimansaiman2ksaiman2kakakulasainadh ak...\n",
      "Age                                                     230\n",
      "Rating                                                97.02\n",
      "dtype: object\n"
     ]
    }
   ],
   "source": [
    "#sum\n",
    "import pandas as pd\n",
    "import numpy as np\n",
    "#Create a Dictionary of series\n",
    "d = {'Name':pd.Series(['sai','nadh','saiman','saiman2k','saiman2kak','akula','sainadh akula',\n",
    "   'manju','nadh','akula manju','saiman2ka3k','manjunadh akula']),\n",
    "   'Age':pd.Series([18,20,21,19,20,10,22,18,19,22,21,20]),\n",
    "   'Rating':pd.Series([9.73,6.84,5.98,8.56,7.20,9.6,5.8,8.78,9.98,6.80,8.10,9.65])\n",
    "}\n",
    "#Create a DataFrame\n",
    "df = pd.DataFrame(d)\n",
    "print(df.sum())"
   ]
  },
  {
   "cell_type": "code",
   "execution_count": 4,
   "metadata": {},
   "outputs": [
    {
     "name": "stdout",
     "output_type": "stream",
     "text": [
      "0     27.73\n",
      "1     26.84\n",
      "2     26.98\n",
      "3     27.56\n",
      "4     27.20\n",
      "5     19.60\n",
      "6     27.80\n",
      "7     26.78\n",
      "8     28.98\n",
      "9     28.80\n",
      "10    29.10\n",
      "11    29.65\n",
      "dtype: float64\n"
     ]
    }
   ],
   "source": [
    "#axis(particular)\n",
    "import pandas as pd\n",
    "import numpy as np\n",
    "#Create a Dictionary of series\n",
    "d = {'Name':pd.Series(['sai','nadh','saiman','saiman2k','saiman2kak','akula','sainadh akula',\n",
    "   'manju','nadh','akula manju','saiman2ka3k','manjunadh akula']),\n",
    "   'Age':pd.Series([18,20,21,19,20,10,22,18,19,22,21,20]),\n",
    "   'Rating':pd.Series([9.73,6.84,5.98,8.56,7.20,9.6,5.8,8.78,9.98,6.80,8.10,9.65])\n",
    "}\n",
    "#Create a DataFrame\n",
    "df = pd.DataFrame(d)\n",
    "print(df.sum(1))"
   ]
  },
  {
   "cell_type": "code",
   "execution_count": 5,
   "metadata": {},
   "outputs": [
    {
     "name": "stdout",
     "output_type": "stream",
     "text": [
      "Age       19.166667\n",
      "Rating     8.085000\n",
      "dtype: float64\n"
     ]
    }
   ],
   "source": [
    "#mean()\n",
    "import pandas as pd\n",
    "import numpy as np\n",
    "#Create a Dictionary of series\n",
    "d = {'Name':pd.Series(['sai','nadh','saiman','saiman2k','saiman2kak','akula','sainadh akula',\n",
    "   'manju','nadh','akula manju','saiman2ka3k','manjunadh akula']),\n",
    "   'Age':pd.Series([18,20,21,19,20,10,22,18,19,22,21,20]),\n",
    "   'Rating':pd.Series([9.73,6.84,5.98,8.56,7.20,9.6,5.8,8.78,9.98,6.80,8.10,9.65])\n",
    "}\n",
    "#Create a DataFrame\n",
    "df = pd.DataFrame(d)\n",
    "print(df.mean())"
   ]
  },
  {
   "cell_type": "code",
   "execution_count": 6,
   "metadata": {},
   "outputs": [
    {
     "name": "stdout",
     "output_type": "stream",
     "text": [
      "Age       3.186144\n",
      "Rating    1.519183\n",
      "dtype: float64\n"
     ]
    }
   ],
   "source": [
    "#stndard deviation\n",
    "import pandas as pd\n",
    "import numpy as np\n",
    "#Create a Dictionary of series\n",
    "d = {'Name':pd.Series(['sai','nadh','saiman','saiman2k','saiman2kak','akula','sainadh akula',\n",
    "   'manju','nadh','akula manju','saiman2ka3k','manjunadh akula']),\n",
    "   'Age':pd.Series([18,20,21,19,20,10,22,18,19,22,21,20]),\n",
    "   'Rating':pd.Series([9.73,6.84,5.98,8.56,7.20,9.6,5.8,8.78,9.98,6.80,8.10,9.65])\n",
    "}\n",
    "#Create a DataFrame\n",
    "df = pd.DataFrame(d)\n",
    "print(df.std())"
   ]
  },
  {
   "cell_type": "code",
   "execution_count": 7,
   "metadata": {},
   "outputs": [
    {
     "name": "stdout",
     "output_type": "stream",
     "text": [
      "Age       1.997221e+15\n",
      "Rating    6.360949e+10\n",
      "dtype: float64\n"
     ]
    }
   ],
   "source": [
    "#product of values\n",
    "import pandas as pd\n",
    "import numpy as np\n",
    "#Create a Dictionary of series\n",
    "d = {'Name':pd.Series(['sai','nadh','saiman','saiman2k','saiman2kak','akula','sainadh akula',\n",
    "   'manju','nadh','akula manju','saiman2ka3k','manjunadh akula']),\n",
    "   'Age':pd.Series([18,20,21,19,20,10,22,18,19,22,21,20]),\n",
    "   'Rating':pd.Series([9.73,6.84,5.98,8.56,7.20,9.6,5.8,8.78,9.98,6.80,8.10,9.65])\n",
    "}\n",
    "#Create a DataFrame\n",
    "df = pd.DataFrame(d)\n",
    "print(df.prod())"
   ]
  },
  {
   "cell_type": "code",
   "execution_count": 8,
   "metadata": {},
   "outputs": [
    {
     "name": "stdout",
     "output_type": "stream",
     "text": [
      "                                                 Name  Age  Rating\n",
      "0                                                 sai   18    9.73\n",
      "1                                             sainadh   38   16.57\n",
      "2                                       sainadhsaiman   59   22.55\n",
      "3                               sainadhsaimansaiman2k   78   31.11\n",
      "4                     sainadhsaimansaiman2ksaiman2kak   98   38.31\n",
      "5                sainadhsaimansaiman2ksaiman2kakakula  108   47.91\n",
      "6   sainadhsaimansaiman2ksaiman2kakakulasainadh akula  130   53.71\n",
      "7   sainadhsaimansaiman2ksaiman2kakakulasainadh ak...  148   62.49\n",
      "8   sainadhsaimansaiman2ksaiman2kakakulasainadh ak...  167   72.47\n",
      "9   sainadhsaimansaiman2ksaiman2kakakulasainadh ak...  189   79.27\n",
      "10  sainadhsaimansaiman2ksaiman2kakakulasainadh ak...  210   87.37\n",
      "11  sainadhsaimansaiman2ksaiman2kakakulasainadh ak...  230   97.02\n"
     ]
    }
   ],
   "source": [
    "#cummulative sum\n",
    "import pandas as pd\n",
    "import numpy as np\n",
    "#Create a Dictionary of series\n",
    "d = {'Name':pd.Series(['sai','nadh','saiman','saiman2k','saiman2kak','akula','sainadh akula',\n",
    "   'manju','nadh','akula manju','saiman2ka3k','manjunadh akula']),\n",
    "   'Age':pd.Series([18,20,21,19,20,10,22,18,19,22,21,20]),\n",
    "   'Rating':pd.Series([9.73,6.84,5.98,8.56,7.20,9.6,5.8,8.78,9.98,6.80,8.10,9.65])\n",
    "}\n",
    "#Create a DataFrame\n",
    "df = pd.DataFrame(d)\n",
    "print(df.cumsum())"
   ]
  },
  {
   "cell_type": "code",
   "execution_count": 10,
   "metadata": {},
   "outputs": [
    {
     "name": "stdout",
     "output_type": "stream",
     "text": [
      "Name      sainadh akula\n",
      "Age                  22\n",
      "Rating             9.98\n",
      "dtype: object\n"
     ]
    }
   ],
   "source": [
    "#max value\n",
    "import pandas as pd\n",
    "import numpy as np\n",
    "#Create a Dictionary of series\n",
    "d = {'Name':pd.Series(['sai','nadh','saiman','saiman2k','saiman2kak','akula','sainadh akula',\n",
    "   'manju','nadh','akula manju','saiman2ka3k','manjunadh akula']),\n",
    "   'Age':pd.Series([18,20,21,19,20,10,22,18,19,22,21,20]),\n",
    "   'Rating':pd.Series([9.73,6.84,5.98,8.56,7.20,9.6,5.8,8.78,9.98,6.80,8.10,9.65])\n",
    "}\n",
    "#Create a DataFrame\n",
    "df = pd.DataFrame(d)\n",
    "print(df.max())"
   ]
  },
  {
   "cell_type": "code",
   "execution_count": 11,
   "metadata": {},
   "outputs": [
    {
     "name": "stdout",
     "output_type": "stream",
     "text": [
      "Name      akula\n",
      "Age          10\n",
      "Rating      5.8\n",
      "dtype: object\n"
     ]
    }
   ],
   "source": [
    "#min value\n",
    "import pandas as pd\n",
    "import numpy as np\n",
    "#Create a Dictionary of series\n",
    "d = {'Name':pd.Series(['sai','nadh','saiman','saiman2k','saiman2kak','akula','sainadh akula',\n",
    "   'manju','nadh','akula manju','saiman2ka3k','manjunadh akula']),\n",
    "   'Age':pd.Series([18,20,21,19,20,10,22,18,19,22,21,20]),\n",
    "   'Rating':pd.Series([9.73,6.84,5.98,8.56,7.20,9.6,5.8,8.78,9.98,6.80,8.10,9.65])\n",
    "}\n",
    "#Create a DataFrame\n",
    "df = pd.DataFrame(d)\n",
    "print(df.min())"
   ]
  }
 ],
 "metadata": {
  "kernelspec": {
   "display_name": "Python 3",
   "language": "python",
   "name": "python3"
  },
  "language_info": {
   "codemirror_mode": {
    "name": "ipython",
    "version": 3
   },
   "file_extension": ".py",
   "mimetype": "text/x-python",
   "name": "python",
   "nbconvert_exporter": "python",
   "pygments_lexer": "ipython3",
   "version": "3.8.3"
  }
 },
 "nbformat": 4,
 "nbformat_minor": 4
}
