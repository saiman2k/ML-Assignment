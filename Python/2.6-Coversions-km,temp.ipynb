{
 "cells": [
  {
   "cell_type": "code",
   "execution_count": 3,
   "metadata": {},
   "outputs": [
    {
     "name": "stdout",
     "output_type": "stream",
     "text": [
      "ENter the hoices given below:\n",
      "1.Kilometres to Miles\n",
      "2.Celsius to fahrenheit\n",
      "1\n",
      "Enter the no of kilometres:\n",
      "25\n",
      "25  no of kilometres in miles is: 40.233677197161114\n"
     ]
    }
   ],
   "source": [
    "print(\"ENter the hoices given below:\")\n",
    "print(\"1.Kilometres to Miles\\n2.Celsius to fahrenheit\")\n",
    "a=int(input())\n",
    "if a==1:\n",
    "    print(\"Enter the no of kilometres:\")\n",
    "    b=int(input())\n",
    "    c=b/0.62137\n",
    "    print(b,\" no of kilometres in miles is:\",c)\n",
    "elif a==2:\n",
    "    print(\"Enter the temperature{Celsius}:\")\n",
    "    d=float(input())\n",
    "    e=(d*1.8)+32\n",
    "    print(d,\"in fahrenheit is:\",e)"
   ]
  },
  {
   "cell_type": "code",
   "execution_count": null,
   "metadata": {},
   "outputs": [],
   "source": []
  }
 ],
 "metadata": {
  "kernelspec": {
   "display_name": "Python 3",
   "language": "python",
   "name": "python3"
  },
  "language_info": {
   "codemirror_mode": {
    "name": "ipython",
    "version": 3
   },
   "file_extension": ".py",
   "mimetype": "text/x-python",
   "name": "python",
   "nbconvert_exporter": "python",
   "pygments_lexer": "ipython3",
   "version": "3.8.3"
  }
 },
 "nbformat": 4,
 "nbformat_minor": 4
}
