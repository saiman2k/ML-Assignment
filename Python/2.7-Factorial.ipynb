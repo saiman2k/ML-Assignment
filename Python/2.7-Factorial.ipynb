{
 "cells": [
  {
   "cell_type": "code",
   "execution_count": 5,
   "metadata": {},
   "outputs": [
    {
     "name": "stdout",
     "output_type": "stream",
     "text": [
      "Enter the number to find the factorial:\n",
      "25\n",
      "Factorial of the  25  is: 15511210043330985984000000\n"
     ]
    }
   ],
   "source": [
    "print(\"Enter the number to find the factorial:\")\n",
    "a=int(input())\n",
    "m=1\n",
    "for i in range(1,a+1):\n",
    "    m=m*i\n",
    "print(\"Factorial of the \",a,\" is:\",m)"
   ]
  },
  {
   "cell_type": "code",
   "execution_count": null,
   "metadata": {},
   "outputs": [],
   "source": []
  }
 ],
 "metadata": {
  "kernelspec": {
   "display_name": "Python 3",
   "language": "python",
   "name": "python3"
  },
  "language_info": {
   "codemirror_mode": {
    "name": "ipython",
    "version": 3
   },
   "file_extension": ".py",
   "mimetype": "text/x-python",
   "name": "python",
   "nbconvert_exporter": "python",
   "pygments_lexer": "ipython3",
   "version": "3.8.3"
  }
 },
 "nbformat": 4,
 "nbformat_minor": 4
}
