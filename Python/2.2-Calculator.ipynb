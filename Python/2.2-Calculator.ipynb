{
 "cells": [
  {
   "cell_type": "code",
   "execution_count": 4,
   "metadata": {},
   "outputs": [
    {
     "name": "stdout",
     "output_type": "stream",
     "text": [
      "The options available are:\n",
      "1.+\n",
      "2.-\n",
      "3.*\n",
      "4./\n",
      "5.%\n",
      "6.//\n",
      "Enter your choice:\n",
      "2\n",
      "Enter the 2 numbers:\n",
      "26\n",
      "52\n",
      "The difference between  numbers is: 26.0\n"
     ]
    }
   ],
   "source": [
    "print(\"The options available are:\")\n",
    "print(\"1.+\\n2.-\\n3.*\\n4./\\n5.%\\n6.//\")\n",
    "print(\"Enter your choice:\")\n",
    "a=int(input())\n",
    "if a==1:\n",
    "    print(\"Enter the 2 numbers:\")\n",
    "    b=float(input())\n",
    "    c=float(input())\n",
    "    d=b+c\n",
    "    print(\"The sum of two number is:\",d)\n",
    "elif a==2:\n",
    "    print(\"Enter the 2 numbers:\")\n",
    "    b=float(input())\n",
    "    c=float(input())\n",
    "    d=abs(b-c)\n",
    "    print(\"The difference between  numbers is:\",d)\n",
    "elif a==3:\n",
    "    print(\"Enter the 2 numbers:\")\n",
    "    b=float(input())\n",
    "    c=float(input())\n",
    "    d=b*c\n",
    "    print(\"The product of two number is:\",d)\n",
    "elif a==4:\n",
    "    print(\"Enter the dividend:\")\n",
    "    b=float(input())\n",
    "    print(\"Enter the divisor:\")\n",
    "    c=float(input())\n",
    "    d=b/c\n",
    "    print(\"The division of b and c is:\",d)\n",
    "elif a==5:\n",
    "    print(\"Enter the number to be divided:\")\n",
    "    b=float(input())\n",
    "    print(\"Enter the number by which modulus must be done:\")\n",
    "    c=float(input())\n",
    "    d=b%c\n",
    "    print(\"the modulus is:\",d)\n",
    "elif a==6:\n",
    "    print(\"Enter the dividend:\")\n",
    "    b=float(input())\n",
    "    print(\"Enter the divisor:\")\n",
    "    c=float(input())\n",
    "    d=b//c\n",
    "    print(\"The division(flooring) of b and c is:\",d)\n",
    "\n",
    "    "
   ]
  },
  {
   "cell_type": "code",
   "execution_count": null,
   "metadata": {},
   "outputs": [],
   "source": []
  }
 ],
 "metadata": {
  "kernelspec": {
   "display_name": "Python 3",
   "language": "python",
   "name": "python3"
  },
  "language_info": {
   "codemirror_mode": {
    "name": "ipython",
    "version": 3
   },
   "file_extension": ".py",
   "mimetype": "text/x-python",
   "name": "python",
   "nbconvert_exporter": "python",
   "pygments_lexer": "ipython3",
   "version": "3.8.3"
  }
 },
 "nbformat": 4,
 "nbformat_minor": 4
}
