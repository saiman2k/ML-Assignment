{
 "cells": [
  {
   "cell_type": "code",
   "execution_count": 17,
   "metadata": {},
   "outputs": [
    {
     "name": "stdout",
     "output_type": "stream",
     "text": [
      "This programs is to check whether a number is prime,even or odd\n",
      "Enter a number:\n",
      "99\n",
      "Number is not Prime and an odd number\n"
     ]
    }
   ],
   "source": [
    "print(\"This programs is to check whether a number is prime,even or odd\")\n",
    "print(\"Enter a number:\")\n",
    "a=int(input())\n",
    "c=0\n",
    "p=3\n",
    "for i in range(1,a+1):\n",
    "    r=a%i\n",
    "    if r==0:\n",
    "        c+=1\n",
    "\n",
    "if c>2:\n",
    "    p=0\n",
    "elif c==2:\n",
    "    p=1\n",
    "if a%2==0:\n",
    "    e=1    \n",
    "elif a%2!=0:\n",
    "     e=0 \n",
    "if p==0 and e==0:\n",
    "    print(\"Number is not Prime and an odd number\")\n",
    "elif p==1 and e==0:\n",
    "    print(\"Number is prime and an odd number\")\n",
    "elif p==0 and e==1:\n",
    "    print(\"Number is not prime and an even number\")\n",
    "elif p==1 and e==1:\n",
    "    print(\"Number is prime and an even number\")"
   ]
  },
  {
   "cell_type": "code",
   "execution_count": null,
   "metadata": {},
   "outputs": [],
   "source": []
  },
  {
   "cell_type": "code",
   "execution_count": null,
   "metadata": {},
   "outputs": [],
   "source": []
  }
 ],
 "metadata": {
  "kernelspec": {
   "display_name": "Python 3",
   "language": "python",
   "name": "python3"
  },
  "language_info": {
   "codemirror_mode": {
    "name": "ipython",
    "version": 3
   },
   "file_extension": ".py",
   "mimetype": "text/x-python",
   "name": "python",
   "nbconvert_exporter": "python",
   "pygments_lexer": "ipython3",
   "version": "3.8.3"
  }
 },
 "nbformat": 4,
 "nbformat_minor": 4
}
