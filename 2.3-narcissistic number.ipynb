{
 "cells": [
  {
   "cell_type": "code",
   "execution_count": 3,
   "metadata": {},
   "outputs": [
    {
     "name": "stdout",
     "output_type": "stream",
     "text": [
      "Enter an number:1254\n",
      "The number is not armstrong.\n"
     ]
    }
   ],
   "source": [
    "a=int(input(\"Enter an number:\"))\n",
    "t=a\n",
    "t1=a\n",
    "c=0\n",
    "s=0\n",
    "while a>0:\n",
    "    a=a//10\n",
    "    c+=1\n",
    "while t>0:\n",
    "    r=t%10\n",
    "    t//=10\n",
    "    s=s+pow(r,c)\n",
    "if t1 == s:\n",
    "    print(\"Given number is armstrong.\")\n",
    "else:\n",
    "    print(\"The number is not armstrong.\")"
   ]
  },
  {
   "cell_type": "code",
   "execution_count": null,
   "metadata": {},
   "outputs": [],
   "source": []
  },
  {
   "cell_type": "code",
   "execution_count": null,
   "metadata": {},
   "outputs": [],
   "source": []
  }
 ],
 "metadata": {
  "kernelspec": {
   "display_name": "Python 3",
   "language": "python",
   "name": "python3"
  },
  "language_info": {
   "codemirror_mode": {
    "name": "ipython",
    "version": 3
   },
   "file_extension": ".py",
   "mimetype": "text/x-python",
   "name": "python",
   "nbconvert_exporter": "python",
   "pygments_lexer": "ipython3",
   "version": "3.8.3"
  }
 },
 "nbformat": 4,
 "nbformat_minor": 4
}
