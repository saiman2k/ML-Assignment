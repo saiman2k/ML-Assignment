{
 "cells": [
  {
   "cell_type": "code",
   "execution_count": 6,
   "metadata": {},
   "outputs": [
    {
     "name": "stdout",
     "output_type": "stream",
     "text": [
      "The axes are:\n",
      "[RangeIndex(start=0, stop=4, step=1)]\n"
     ]
    }
   ],
   "source": [
    "import pandas as pd\n",
    "import numpy as np\n",
    "#Create a series with 100 random numbers\n",
    "s = pd.Series(np.random.randn(4))\n",
    "print (\"The axes are:\")\n",
    "print(s.axes)"
   ]
  },
  {
   "cell_type": "code",
   "execution_count": 7,
   "metadata": {},
   "outputs": [
    {
     "name": "stdout",
     "output_type": "stream",
     "text": [
      "0   -0.799568\n",
      "1    0.159596\n",
      "2    0.851879\n",
      "3   -0.647984\n",
      "dtype: float64\n",
      "The dimensions of the object:\n",
      "1\n"
     ]
    }
   ],
   "source": [
    "#no of dimensions(ndim)\n",
    "import pandas as pd\n",
    "import numpy as np\n",
    "#Create a series with 4 random numbers\n",
    "s = pd.Series(np.random.randn(4))\n",
    "print(s)\n",
    "print (\"The dimensions of the object:\")\n",
    "print(s.ndim)"
   ]
  },
  {
   "cell_type": "code",
   "execution_count": 8,
   "metadata": {},
   "outputs": [
    {
     "name": "stdout",
     "output_type": "stream",
     "text": [
      "0   -0.494476\n",
      "1   -1.125776\n",
      "dtype: float64\n",
      "The size of the object:\n",
      "2\n"
     ]
    }
   ],
   "source": [
    "#size of the series\n",
    "import pandas as pd\n",
    "import numpy as np\n",
    "#Create a series with 4 random numbers\n",
    "s = pd.Series(np.random.randn(2))\n",
    "print(s)\n",
    "print (\"The size of the object:\")\n",
    "print(s.size)"
   ]
  },
  {
   "cell_type": "code",
   "execution_count": 9,
   "metadata": {},
   "outputs": [
    {
     "name": "stdout",
     "output_type": "stream",
     "text": [
      "0   -0.416673\n",
      "1   -0.970230\n",
      "2   -0.413580\n",
      "3    0.132623\n",
      "dtype: float64\n",
      "The actual data series is:\n",
      "[-0.41667252 -0.97022965 -0.4135796   0.13262336]\n"
     ]
    }
   ],
   "source": [
    "#values\n",
    "import pandas as pd\n",
    "import numpy as np\n",
    "#Create a series with 4 random numbers\n",
    "s = pd.Series(np.random.randn(4))\n",
    "print(s)\n",
    "print (\"The actual data series is:\")\n",
    "print(s.values)"
   ]
  },
  {
   "cell_type": "code",
   "execution_count": 10,
   "metadata": {},
   "outputs": [
    {
     "name": "stdout",
     "output_type": "stream",
     "text": [
      "The original series is:\n",
      "0    2.239554\n",
      "1    1.482254\n",
      "2    0.246733\n",
      "3   -2.352617\n",
      "dtype: float64\n",
      "The first tree rows of the data series:\n",
      "0    2.239554\n",
      "1    1.482254\n",
      "2    0.246733\n",
      "dtype: float64\n"
     ]
    }
   ],
   "source": [
    "#head\n",
    "import pandas as pd\n",
    "import numpy as np\n",
    "#Create a series with 4 random numbers\n",
    "s = pd.Series(np.random.randn(4))\n",
    "print (\"The original series is:\")\n",
    "print(s)\n",
    "print (\"The first tree rows of the data series:\")\n",
    "print(s.head(3))"
   ]
  },
  {
   "cell_type": "code",
   "execution_count": 11,
   "metadata": {},
   "outputs": [
    {
     "name": "stdout",
     "output_type": "stream",
     "text": [
      "The original series is:\n",
      "0   -2.382077\n",
      "1    0.446203\n",
      "2    0.681136\n",
      "3   -0.561135\n",
      "dtype: float64\n",
      "The last three rows of the data series:\n",
      "1    0.446203\n",
      "2    0.681136\n",
      "3   -0.561135\n",
      "dtype: float64\n"
     ]
    }
   ],
   "source": [
    "#tail\n",
    "import pandas as pd\n",
    "import numpy as np\n",
    "\n",
    "#Create a series with 4 random numbers\n",
    "s = pd.Series(np.random.randn(4))\n",
    "print (\"The original series is:\")\n",
    "print(s)\n",
    "print (\"The last three rows of the data series:\")\n",
    "print(s.tail(3))"
   ]
  }
 ],
 "metadata": {
  "kernelspec": {
   "display_name": "Python 3",
   "language": "python",
   "name": "python3"
  },
  "language_info": {
   "codemirror_mode": {
    "name": "ipython",
    "version": 3
   },
   "file_extension": ".py",
   "mimetype": "text/x-python",
   "name": "python",
   "nbconvert_exporter": "python",
   "pygments_lexer": "ipython3",
   "version": "3.8.3"
  }
 },
 "nbformat": 4,
 "nbformat_minor": 4
}
