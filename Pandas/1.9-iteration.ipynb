{
 "cells": [
  {
   "cell_type": "code",
   "execution_count": 4,
   "metadata": {},
   "outputs": [
    {
     "name": "stdout",
     "output_type": "stream",
     "text": [
      "col1 0    0.770165\n",
      "1   -0.332546\n",
      "2    0.133192\n",
      "3   -0.185339\n",
      "Name: col1, dtype: float64\n",
      "col2 0   -0.450596\n",
      "1    1.006075\n",
      "2    0.377187\n",
      "3   -0.197521\n",
      "Name: col2, dtype: float64\n",
      "col3 0    1.249208\n",
      "1   -0.968549\n",
      "2   -0.488433\n",
      "3   -0.949039\n",
      "Name: col3, dtype: float64\n"
     ]
    }
   ],
   "source": [
    "#iteritems()\n",
    "import pandas as pd\n",
    "import numpy as np\n",
    " \n",
    "df = pd.DataFrame(np.random.randn(4,3),columns=['col1','col2','col3'])\n",
    "for key,value in df.iteritems():\n",
    "   print(key,value)"
   ]
  },
  {
   "cell_type": "code",
   "execution_count": 7,
   "metadata": {},
   "outputs": [
    {
     "name": "stdout",
     "output_type": "stream",
     "text": [
      "0 col1   -0.782684\n",
      "col2    0.195908\n",
      "col3   -1.417083\n",
      "Name: 0, dtype: float64\n",
      "1 col1   -1.218377\n",
      "col2    0.368497\n",
      "col3    1.510184\n",
      "Name: 1, dtype: float64\n",
      "2 col1    0.440527\n",
      "col2    0.156340\n",
      "col3    1.089358\n",
      "Name: 2, dtype: float64\n",
      "3 col1   -0.391880\n",
      "col2   -1.137536\n",
      "col3    1.167325\n",
      "Name: 3, dtype: float64\n"
     ]
    }
   ],
   "source": [
    "#iterrows()\n",
    "import pandas as pd\n",
    "import numpy as np\n",
    "\n",
    "df = pd.DataFrame(np.random.randn(4,3),columns = ['col1','col2','col3'])\n",
    "for row_index,row in df.iterrows():\n",
    "   print(row_index,row)"
   ]
  },
  {
   "cell_type": "code",
   "execution_count": 8,
   "metadata": {},
   "outputs": [
    {
     "name": "stdout",
     "output_type": "stream",
     "text": [
      "Pandas(Index=0, col1=-0.0905549064813969, col2=0.6250314474934309, col3=-1.337061309618406)\n",
      "Pandas(Index=1, col1=1.6663207686081132, col2=-0.34470720049345593, col3=-0.5201593488509253)\n",
      "Pandas(Index=2, col1=0.22048275106928494, col2=0.4657059040167151, col3=-0.08616283426340189)\n",
      "Pandas(Index=3, col1=-0.38953613663744946, col2=1.108276427456563, col3=1.3014623585381269)\n"
     ]
    }
   ],
   "source": [
    "#itertuples()\n",
    "import pandas as pd\n",
    "import numpy as np\n",
    "\n",
    "df = pd.DataFrame(np.random.randn(4,3),columns = ['col1','col2','col3'])\n",
    "for row in df.itertuples():\n",
    "    print(row)"
   ]
  }
 ],
 "metadata": {
  "kernelspec": {
   "display_name": "Python 3",
   "language": "python",
   "name": "python3"
  },
  "language_info": {
   "codemirror_mode": {
    "name": "ipython",
    "version": 3
   },
   "file_extension": ".py",
   "mimetype": "text/x-python",
   "name": "python",
   "nbconvert_exporter": "python",
   "pygments_lexer": "ipython3",
   "version": "3.8.3"
  }
 },
 "nbformat": 4,
 "nbformat_minor": 4
}
