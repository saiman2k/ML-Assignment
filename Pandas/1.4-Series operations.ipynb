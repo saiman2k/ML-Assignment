{
 "cells": [
  {
   "cell_type": "code",
   "execution_count": 2,
   "metadata": {},
   "outputs": [
    {
     "name": "stdout",
     "output_type": "stream",
     "text": [
      "0              Os\n",
      "1            Dbms\n",
      "2        Networks\n",
      "3    Compiler eng\n",
      "dtype: object\n"
     ]
    }
   ],
   "source": [
    "#Create a Series from ndarray\n",
    "#import the pandas library and aliasing as pd\n",
    "import pandas as pd\n",
    "import numpy as np\n",
    "data = np.array(['Os','Dbms','Networks','Compiler eng'])\n",
    "s = pd.Series(data)\n",
    "print(s)"
   ]
  },
  {
   "cell_type": "code",
   "execution_count": 4,
   "metadata": {},
   "outputs": [
    {
     "name": "stdout",
     "output_type": "stream",
     "text": [
      "1              Os\n",
      "2            Dbms\n",
      "3        Networks\n",
      "4    Compiler eng\n",
      "dtype: object\n"
     ]
    }
   ],
   "source": [
    "#indexing\n",
    "import pandas as pd\n",
    "import numpy as np\n",
    "data = np.array(['Os','Dbms','Networks','Compiler eng'])\n",
    "s = pd.Series(data,index=[1,2,3,4])\n",
    "print(s)"
   ]
  },
  {
   "cell_type": "code",
   "execution_count": 5,
   "metadata": {},
   "outputs": [
    {
     "name": "stdout",
     "output_type": "stream",
     "text": [
      "1    6013\n",
      "2    6013\n",
      "3    6013\n",
      "4    6013\n",
      "dtype: int64\n"
     ]
    }
   ],
   "source": [
    "#Create a Series from Scalar\n",
    "#import the pandas library and aliasing as pd\n",
    "import pandas as pd\n",
    "import numpy as np\n",
    "s = pd.Series(6013, index=[1,2,3,4])\n",
    "print(s)"
   ]
  },
  {
   "cell_type": "code",
   "execution_count": 17,
   "metadata": {},
   "outputs": [
    {
     "name": "stdout",
     "output_type": "stream",
     "text": [
      "6013\n",
      "a    6013\n",
      "b    2018\n",
      "c    5060\n",
      "dtype: int64\n",
      "c    5060\n",
      "d      13\n",
      "e    5013\n",
      "dtype: int64\n",
      "a    6013\n",
      "b    2018\n",
      "c    5060\n",
      "dtype: int64\n",
      "a    6013\n",
      "b    2018\n",
      "c    5060\n",
      "d      13\n",
      "dtype: int64\n"
     ]
    }
   ],
   "source": [
    "import pandas as pd\n",
    "s = pd.Series([6013,2018,5060,13,5013],index = ['a','b','c','d','e'])\n",
    "#retrieve the first element\n",
    "print(s[0])\n",
    "#indexslicing\n",
    "print(s[:3])\n",
    "#negative indexing\n",
    "print(s[-3:])\n",
    "#retrieval using label\n",
    "print(s[:'c'])\n",
    "#retrieval multiple items\n",
    "print(s['a':'d'])"
   ]
  }
 ],
 "metadata": {
  "kernelspec": {
   "display_name": "Python 3",
   "language": "python",
   "name": "python3"
  },
  "language_info": {
   "codemirror_mode": {
    "name": "ipython",
    "version": 3
   },
   "file_extension": ".py",
   "mimetype": "text/x-python",
   "name": "python",
   "nbconvert_exporter": "python",
   "pygments_lexer": "ipython3",
   "version": "3.8.3"
  }
 },
 "nbformat": 4,
 "nbformat_minor": 4
}
