{
 "cells": [
  {
   "cell_type": "code",
   "execution_count": 12,
   "metadata": {},
   "outputs": [
    {
     "name": "stdout",
     "output_type": "stream",
     "text": [
      "           Item  Quantity(kg)  Cost\n",
      "s.no                               \n",
      "1          Rice             1    50\n",
      "2        Tomato             1    35\n",
      "3          Daal             1    80\n",
      "4          salt             1    20\n",
      "5           Oil             1   120\n",
      "6     Groundnut             1   150\n",
      "7        Chilli             1    75\n",
      "8       brinjal             1    40\n",
      "9       cabbage             1    40\n",
      "10        sugar             1    50\n",
      "s.no\n",
      "1      50\n",
      "2      35\n",
      "3      80\n",
      "4      20\n",
      "5     120\n",
      "6     150\n",
      "7      75\n",
      "8      40\n",
      "9      40\n",
      "10     50\n",
      "Name: Cost, dtype: int64\n",
      "      Cost\n",
      "s.no      \n",
      "1       50\n",
      "2       35\n",
      "3       80\n",
      "4       20\n",
      "5      120\n",
      "6      150\n",
      "7       75\n",
      "8       40\n",
      "9       40\n",
      "10      50\n",
      "           Item  Cost\n",
      "s.no                 \n",
      "1          Rice    50\n",
      "2        Tomato    35\n",
      "3          Daal    80\n",
      "4          salt    20\n",
      "5           Oil   120\n",
      "6     Groundnut   150\n",
      "7        Chilli    75\n",
      "8       brinjal    40\n",
      "9       cabbage    40\n",
      "10        sugar    50\n"
     ]
    }
   ],
   "source": [
    "import pandas as pd\n",
    "df = pd.read_csv ('commodities.csv',index_col=0)\n",
    "print (df)\n",
    "# Print out cost column as Pandas Series\n",
    "print(df['Cost'])\n",
    "# Print out cost column as Pandas DataFrame\n",
    "print(df[['Cost']])\n",
    "# Print out DataFrame with Item and cost columns\n",
    "print(df[['Item', 'Cost']])"
   ]
  }
 ],
 "metadata": {
  "kernelspec": {
   "display_name": "Python 3",
   "language": "python",
   "name": "python3"
  },
  "language_info": {
   "codemirror_mode": {
    "name": "ipython",
    "version": 3
   },
   "file_extension": ".py",
   "mimetype": "text/x-python",
   "name": "python",
   "nbconvert_exporter": "python",
   "pygments_lexer": "ipython3",
   "version": "3.8.3"
  }
 },
 "nbformat": 4,
 "nbformat_minor": 4
}
