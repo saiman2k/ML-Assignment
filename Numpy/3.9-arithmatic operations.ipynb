{
 "cells": [
  {
   "cell_type": "code",
   "execution_count": 1,
   "metadata": {},
   "outputs": [
    {
     "name": "stdout",
     "output_type": "stream",
     "text": [
      "First array:\n",
      "[[0. 1. 2.]\n",
      " [3. 4. 5.]\n",
      " [6. 7. 8.]]\n",
      "\n",
      "\n",
      "Second array:\n",
      "[10 10 10]\n",
      "\n",
      "\n",
      "Add the two arrays:\n",
      "[[10. 11. 12.]\n",
      " [13. 14. 15.]\n",
      " [16. 17. 18.]]\n",
      "\n",
      "\n",
      "Subtract the two arrays:\n",
      "[[-10.  -9.  -8.]\n",
      " [ -7.  -6.  -5.]\n",
      " [ -4.  -3.  -2.]]\n",
      "\n",
      "\n",
      "Multiply the two arrays:\n",
      "[[ 0. 10. 20.]\n",
      " [30. 40. 50.]\n",
      " [60. 70. 80.]]\n",
      "\n",
      "\n",
      "Divide the two arrays:\n",
      "[[0.  0.1 0.2]\n",
      " [0.3 0.4 0.5]\n",
      " [0.6 0.7 0.8]]\n"
     ]
    }
   ],
   "source": [
    "#arithmatic operations\n",
    "import numpy as np \n",
    "a = np.arange(9, dtype = np.float_).reshape(3,3) \n",
    "\n",
    "print ('First array:') \n",
    "print (a) \n",
    "print ('\\n')  \n",
    "\n",
    "print ('Second array:') \n",
    "b = np.array([10,10,10]) \n",
    "print (b) \n",
    "print ('\\n')  \n",
    "\n",
    "print ('Add the two arrays:') \n",
    "print (np.add(a,b)) \n",
    "print ('\\n')  \n",
    "\n",
    "print ('Subtract the two arrays:') \n",
    "print (np.subtract(a,b)) \n",
    "print ('\\n')  \n",
    "\n",
    "print ('Multiply the two arrays:') \n",
    "print (np.multiply(a,b)) \n",
    "print ('\\n' ) \n",
    "\n",
    "print ('Divide the two arrays:') \n",
    "print (np.divide(a,b))"
   ]
  },
  {
   "cell_type": "code",
   "execution_count": 4,
   "metadata": {},
   "outputs": [
    {
     "name": "stdout",
     "output_type": "stream",
     "text": [
      "Our array is:\n",
      "[  0.25   1.33   1.     5.   100.  ]\n",
      "\n",
      "\n",
      "After applying reciprocal function:\n",
      "[4.        0.7518797 1.        0.2       0.01     ]\n",
      "\n",
      "\n",
      "The second array is:\n",
      "[100]\n",
      "\n",
      "\n",
      "After applying reciprocal function:\n",
      "[0]\n"
     ]
    }
   ],
   "source": [
    "#reciprocal\n",
    "import numpy as np \n",
    "a = np.array([0.25, 1.33, 1, 5, 100]) \n",
    "\n",
    "print ('Our array is:') \n",
    "print (a) \n",
    "print ('\\n')  \n",
    "\n",
    "print ('After applying reciprocal function:') \n",
    "print (np.reciprocal(a)) \n",
    "print ('\\n')  \n",
    "\n",
    "b = np.array([100], dtype = int) \n",
    "print ('The second array is:') \n",
    "print (b) \n",
    "print ('\\n')  \n",
    "\n",
    "print ('After applying reciprocal function:') \n",
    "print (np.reciprocal(b)) "
   ]
  },
  {
   "cell_type": "code",
   "execution_count": 5,
   "metadata": {},
   "outputs": [
    {
     "name": "stdout",
     "output_type": "stream",
     "text": [
      "Our array is:\n",
      "[  10  100 1000]\n",
      "\n",
      "\n",
      "Applying power function:\n",
      "[    100   10000 1000000]\n",
      "\n",
      "\n",
      "Second array:\n",
      "[1 2 3]\n",
      "\n",
      "\n",
      "Applying power function again:\n",
      "[        10      10000 1000000000]\n"
     ]
    }
   ],
   "source": [
    "#power\n",
    "import numpy as np \n",
    "a = np.array([10,100,1000]) \n",
    "\n",
    "print ('Our array is:') \n",
    "print (a) \n",
    "print ('\\n')  \n",
    "\n",
    "print ('Applying power function:') \n",
    "print (np.power(a,2)) \n",
    "print ('\\n')  \n",
    "\n",
    "print ('Second array:') \n",
    "b = np.array([1,2,3]) \n",
    "print (b) \n",
    "print ('\\n')  \n",
    "\n",
    "print ('Applying power function again:') \n",
    "print (np.power(a,b))"
   ]
  },
  {
   "cell_type": "code",
   "execution_count": 6,
   "metadata": {},
   "outputs": [
    {
     "name": "stdout",
     "output_type": "stream",
     "text": [
      "First array:\n",
      "[10 20 30]\n",
      "\n",
      "\n",
      "Second array:\n",
      "[3 5 7]\n",
      "\n",
      "\n",
      "Applying mod() function:\n",
      "[1 0 2]\n",
      "\n",
      "\n",
      "Applying remainder() function:\n",
      "[1 0 2]\n"
     ]
    }
   ],
   "source": [
    "#mod\n",
    "import numpy as np \n",
    "a = np.array([10,20,30]) \n",
    "b = np.array([3,5,7]) \n",
    "\n",
    "print ('First array:') \n",
    "print (a) \n",
    "print ('\\n')  \n",
    "\n",
    "print ('Second array:') \n",
    "print (b )\n",
    "print ('\\n')  \n",
    "\n",
    "print ('Applying mod() function:' )\n",
    "print (np.mod(a,b)) \n",
    "print ('\\n')  \n",
    "\n",
    "print ('Applying remainder() function:') \n",
    "print (np.remainder(a,b))"
   ]
  }
 ],
 "metadata": {
  "kernelspec": {
   "display_name": "Python 3",
   "language": "python",
   "name": "python3"
  },
  "language_info": {
   "codemirror_mode": {
    "name": "ipython",
    "version": 3
   },
   "file_extension": ".py",
   "mimetype": "text/x-python",
   "name": "python",
   "nbconvert_exporter": "python",
   "pygments_lexer": "ipython3",
   "version": "3.8.3"
  }
 },
 "nbformat": 4,
 "nbformat_minor": 4
}
