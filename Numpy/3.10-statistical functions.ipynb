{
 "cells": [
  {
   "cell_type": "code",
   "execution_count": 2,
   "metadata": {},
   "outputs": [
    {
     "name": "stdout",
     "output_type": "stream",
     "text": [
      "Our array is:\n",
      "[[1 2 3]\n",
      " [4 5 6]\n",
      " [7 8 9]]\n",
      "\n",
      "\n",
      "Applying amin() function:\n",
      "[1 4 7]\n",
      "\n",
      "\n",
      "Applying amin() function again:\n",
      "[1 2 3]\n",
      "\n",
      "\n",
      "Applying amax() function:\n",
      "9\n",
      "\n",
      "\n",
      "Applying amax() function again:\n",
      "[7 8 9]\n"
     ]
    }
   ],
   "source": [
    "#amin() and amax()\n",
    "import numpy as np \n",
    "a = np.array([[1,2,3],[4,5,6],[7,8,9]]) \n",
    "\n",
    "print ('Our array is:') \n",
    "print (a)  \n",
    "print ('\\n')  \n",
    "\n",
    "print ('Applying amin() function:') \n",
    "print (np.amin(a,1)) \n",
    "print ('\\n')  \n",
    "\n",
    "print ('Applying amin() function again:') \n",
    "print (np.amin(a,0)) \n",
    "print ('\\n')  \n",
    "\n",
    "print ('Applying amax() function:') \n",
    "print (np.amax(a)) \n",
    "print ('\\n' ) \n",
    "\n",
    "print ('Applying amax() function again:') \n",
    "print (np.amax(a, axis = 0))"
   ]
  },
  {
   "cell_type": "code",
   "execution_count": 7,
   "metadata": {},
   "outputs": [
    {
     "name": "stdout",
     "output_type": "stream",
     "text": [
      "Our array is:\n",
      "[[1 2 3]\n",
      " [4 5 6]\n",
      " [7 8 9]]\n",
      "\n",
      "\n",
      "Applying ptp() function:\n",
      "8\n",
      "\n",
      "\n",
      "Applying ptp() function along axis 1:\n",
      "[2 2 2]\n",
      "\n",
      "\n",
      "Applying ptp() function along axis 0:\n",
      "[6 6 6]\n"
     ]
    }
   ],
   "source": [
    "#ptp()\n",
    "import numpy as np \n",
    "a = np.array([[1,2,3],[4,5,6],[7,8,9]]) \n",
    "\n",
    "print ('Our array is:' )\n",
    "print (a) \n",
    "print ('\\n')  \n",
    "\n",
    "print ('Applying ptp() function:') \n",
    "print (np.ptp(a)) \n",
    "print ('\\n')  \n",
    "\n",
    "print ('Applying ptp() function along axis 1:') \n",
    "print (np.ptp(a, axis = 1) )\n",
    "print ('\\n' )  \n",
    "\n",
    "print ('Applying ptp() function along axis 0:')\n",
    "print (np.ptp(a, axis = 0) )"
   ]
  },
  {
   "cell_type": "code",
   "execution_count": 8,
   "metadata": {},
   "outputs": [
    {
     "name": "stdout",
     "output_type": "stream",
     "text": [
      "Our array is:\n",
      "[[1 2 3]\n",
      " [4 5 6]\n",
      " [7 8 9]]\n",
      "\n",
      "\n",
      "Applying percentile() function:\n",
      "5.0\n",
      "\n",
      "\n",
      "Applying percentile() function along axis 1:\n",
      "[2. 5. 8.]\n",
      "\n",
      "\n",
      "Applying percentile() function along axis 0:\n",
      "[4. 5. 6.]\n"
     ]
    }
   ],
   "source": [
    "#percentile\n",
    "import numpy as np \n",
    "a = np.array([[1,2,3],[4,5,6],[7,8,9]]) \n",
    "\n",
    "print ('Our array is:') \n",
    "print (a) \n",
    "print ('\\n')  \n",
    "\n",
    "print ('Applying percentile() function:') \n",
    "print (np.percentile(a,50)) \n",
    "print ('\\n')  \n",
    "\n",
    "print ('Applying percentile() function along axis 1:') \n",
    "print (np.percentile(a,50, axis = 1)) \n",
    "print ('\\n')  \n",
    "\n",
    "print ('Applying percentile() function along axis 0:') \n",
    "print (np.percentile(a,50, axis = 0))"
   ]
  },
  {
   "cell_type": "code",
   "execution_count": 9,
   "metadata": {},
   "outputs": [
    {
     "name": "stdout",
     "output_type": "stream",
     "text": [
      "Our array is:\n",
      "[[1 2 3]\n",
      " [4 5 6]\n",
      " [7 8 9]]\n",
      "\n",
      "\n",
      "Applying median() function:\n",
      "5.0\n",
      "\n",
      "\n",
      "Applying median() function along axis 0:\n",
      "[4. 5. 6.]\n",
      "\n",
      "\n",
      "Applying median() function along axis 1:\n",
      "[2. 5. 8.]\n"
     ]
    }
   ],
   "source": [
    "#median\n",
    "import numpy as np \n",
    "a = np.array([[1,2,3],[4,5,6],[7,8,9]])\n",
    "\n",
    "print ('Our array is:') \n",
    "print (a) \n",
    "print ('\\n')  \n",
    "\n",
    "print ('Applying median() function:') \n",
    "print (np.median(a) )\n",
    "print ('\\n')  \n",
    "\n",
    "print ('Applying median() function along axis 0:') \n",
    "print (np.median(a, axis = 0)) \n",
    "print ('\\n')  \n",
    " \n",
    "print ('Applying median() function along axis 1:') \n",
    "print (np.median(a, axis = 1))"
   ]
  },
  {
   "cell_type": "code",
   "execution_count": 10,
   "metadata": {},
   "outputs": [
    {
     "name": "stdout",
     "output_type": "stream",
     "text": [
      "Our array is:\n",
      "[[1 2 3]\n",
      " [4 5 6]\n",
      " [7 8 9]]\n",
      "\n",
      "\n",
      "Applying mean() function:\n",
      "5.0\n",
      "\n",
      "\n",
      "Applying mean() function along axis 0:\n",
      "[4. 5. 6.]\n",
      "\n",
      "\n",
      "Applying mean() function along axis 1:\n",
      "[2. 5. 8.]\n"
     ]
    }
   ],
   "source": [
    "#mean\n",
    "import numpy as np \n",
    "a = np.array([[1,2,3],[4,5,6],[7,8,9]]) \n",
    "\n",
    "print ('Our array is:') \n",
    "print (a) \n",
    "print ('\\n')  \n",
    "\n",
    "print ('Applying mean() function:') \n",
    "print (np.mean(a) )\n",
    "print ('\\n')  \n",
    "\n",
    "print ('Applying mean() function along axis 0:') \n",
    "print (np.mean(a, axis = 0)) \n",
    "print ('\\n')  \n",
    "\n",
    "print ('Applying mean() function along axis 1:') \n",
    "print (np.mean(a, axis = 1))"
   ]
  }
 ],
 "metadata": {
  "kernelspec": {
   "display_name": "Python 3",
   "language": "python",
   "name": "python3"
  },
  "language_info": {
   "codemirror_mode": {
    "name": "ipython",
    "version": 3
   },
   "file_extension": ".py",
   "mimetype": "text/x-python",
   "name": "python",
   "nbconvert_exporter": "python",
   "pygments_lexer": "ipython3",
   "version": "3.8.3"
  }
 },
 "nbformat": 4,
 "nbformat_minor": 4
}
