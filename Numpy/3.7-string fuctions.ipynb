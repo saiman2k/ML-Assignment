{
 "cells": [
  {
   "cell_type": "code",
   "execution_count": 4,
   "metadata": {},
   "outputs": [
    {
     "name": "stdout",
     "output_type": "stream",
     "text": [
      "Concatenate two strings:\n",
      "['SainadhAkula']\n",
      "\n",
      "\n",
      "Concatenation example:\n",
      "['saiakula' 'nadh saiman']\n"
     ]
    }
   ],
   "source": [
    "#string concetanation\n",
    "import numpy as np \n",
    "print ('Concatenate two strings:') \n",
    "print (np.char.add(['Sainadh'],['Akula'])) \n",
    "print ('\\n')\n",
    "print ('Concatenation example:') \n",
    "print (np.char.add(['sai', 'nadh'],['akula', ' saiman']))"
   ]
  },
  {
   "cell_type": "code",
   "execution_count": 6,
   "metadata": {},
   "outputs": [
    {
     "name": "stdout",
     "output_type": "stream",
     "text": [
      "Sainadh Sainadh Sainadh \n"
     ]
    }
   ],
   "source": [
    "#string multiply\n",
    "import numpy as np \n",
    "print (np.char.multiply('Sainadh ',3))"
   ]
  },
  {
   "cell_type": "code",
   "execution_count": 7,
   "metadata": {},
   "outputs": [
    {
     "name": "stdout",
     "output_type": "stream",
     "text": [
      "$$$$$$$$$$$saiman2k$$$$$$$$$$$\n"
     ]
    }
   ],
   "source": [
    "#string centre\n",
    "import numpy as np \n",
    "# np.char.center(arr, width,fillchar) \n",
    "print (np.char.center('saiman2k', 30,fillchar = '$'))"
   ]
  },
  {
   "cell_type": "code",
   "execution_count": 9,
   "metadata": {},
   "outputs": [
    {
     "name": "stdout",
     "output_type": "stream",
     "text": [
      "Akulasainadh\n"
     ]
    }
   ],
   "source": [
    "#capitalise\n",
    "import numpy as np \n",
    "print (np.char.capitalize('akulasainadh'))"
   ]
  },
  {
   "cell_type": "code",
   "execution_count": 11,
   "metadata": {},
   "outputs": [
    {
     "name": "stdout",
     "output_type": "stream",
     "text": [
      "Myself Sainadh Akula\n"
     ]
    }
   ],
   "source": [
    "#string title\n",
    "import numpy as np \n",
    "print (np.char.title('myself sainadh akula'))"
   ]
  },
  {
   "cell_type": "code",
   "execution_count": 12,
   "metadata": {},
   "outputs": [
    {
     "name": "stdout",
     "output_type": "stream",
     "text": [
      "['my', 'name', 'is', 'sainadh']\n",
      "['sainadh', 'akula', 'saiman2k']\n"
     ]
    }
   ],
   "source": [
    "#string split\n",
    "import numpy as np \n",
    "print (np.char.split ('my name is sainadh')) \n",
    "print (np.char.split ('sainadh,akula,saiman2k', sep = ','))"
   ]
  },
  {
   "cell_type": "code",
   "execution_count": 14,
   "metadata": {},
   "outputs": [
    {
     "name": "stdout",
     "output_type": "stream",
     "text": [
      "sainadh\n",
      "['saiman' 'saiman2k' 'kul']\n"
     ]
    }
   ],
   "source": [
    "#string strip\n",
    "import numpy as np \n",
    "print (np.char.strip('sainadh','akula')) \n",
    "print (np.char.strip(['saiman','saiman2k','akula'],'a'))"
   ]
  },
  {
   "cell_type": "code",
   "execution_count": 16,
   "metadata": {},
   "outputs": [
    {
     "name": "stdout",
     "output_type": "stream",
     "text": [
      "Myself sainadh saiman2k\n"
     ]
    }
   ],
   "source": [
    "#string replace\n",
    "import numpy as np \n",
    "print (np.char.replace ('Myself sainadh akula', 'akula', 'saiman2k'))"
   ]
  }
 ],
 "metadata": {
  "kernelspec": {
   "display_name": "Python 3",
   "language": "python",
   "name": "python3"
  },
  "language_info": {
   "codemirror_mode": {
    "name": "ipython",
    "version": 3
   },
   "file_extension": ".py",
   "mimetype": "text/x-python",
   "name": "python",
   "nbconvert_exporter": "python",
   "pygments_lexer": "ipython3",
   "version": "3.8.3"
  }
 },
 "nbformat": 4,
 "nbformat_minor": 4
}
