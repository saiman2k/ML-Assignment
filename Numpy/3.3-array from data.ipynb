{
 "cells": [
  {
   "cell_type": "code",
   "execution_count": 1,
   "metadata": {},
   "outputs": [
    {
     "name": "stdout",
     "output_type": "stream",
     "text": [
      "[6013 2018 5060]\n"
     ]
    }
   ],
   "source": [
    "# convert list to ndarray \n",
    "import numpy as np \n",
    "x = [6013,2018,5060] \n",
    "a = np.asarray(x) \n",
    "print( a)"
   ]
  },
  {
   "cell_type": "code",
   "execution_count": 3,
   "metadata": {},
   "outputs": [
    {
     "name": "stdout",
     "output_type": "stream",
     "text": [
      "[6013. 2018. 5060.]\n"
     ]
    }
   ],
   "source": [
    "# dtype is set \n",
    "import numpy as np \n",
    "\n",
    "x = [6013,2018,5060]\n",
    "a = np.asarray(x, dtype = float) \n",
    "print (a)"
   ]
  },
  {
   "cell_type": "code",
   "execution_count": 5,
   "metadata": {},
   "outputs": [
    {
     "name": "stdout",
     "output_type": "stream",
     "text": [
      "[6013 5060 2018]\n"
     ]
    }
   ],
   "source": [
    "# ndarray from tuple \n",
    "import numpy as np \n",
    "\n",
    "x = (6013,5060,2018) \n",
    "a = np.asarray(x) \n",
    "print(a)"
   ]
  },
  {
   "cell_type": "code",
   "execution_count": 6,
   "metadata": {},
   "outputs": [
    {
     "name": "stdout",
     "output_type": "stream",
     "text": [
      "[(13, 6013, 2018) (5060, 6013)]\n"
     ]
    }
   ],
   "source": [
    "# ndarray from list of tuples \n",
    "import numpy as np \n",
    "\n",
    "x = [(13,6013,2018),(5060,6013)] \n",
    "a = np.asarray(x) \n",
    "print(a)"
   ]
  },
  {
   "cell_type": "code",
   "execution_count": 7,
   "metadata": {},
   "outputs": [
    {
     "name": "stdout",
     "output_type": "stream",
     "text": [
      "[0. 1. 2. 3. 4.]\n"
     ]
    }
   ],
   "source": [
    "# obtain iterator object from list \n",
    "import numpy as np \n",
    "list = range(5) \n",
    "it = iter(list)  \n",
    "# use iterator to create ndarray \n",
    "x = np.fromiter(it, dtype = float) \n",
    "print(x)"
   ]
  }
 ],
 "metadata": {
  "kernelspec": {
   "display_name": "Python 3",
   "language": "python",
   "name": "python3"
  },
  "language_info": {
   "codemirror_mode": {
    "name": "ipython",
    "version": 3
   },
   "file_extension": ".py",
   "mimetype": "text/x-python",
   "name": "python",
   "nbconvert_exporter": "python",
   "pygments_lexer": "ipython3",
   "version": "3.8.3"
  }
 },
 "nbformat": 4,
 "nbformat_minor": 4
}
