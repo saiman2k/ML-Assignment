{
 "cells": [
  {
   "cell_type": "code",
   "execution_count": 1,
   "metadata": {},
   "outputs": [
    {
     "name": "stdout",
     "output_type": "stream",
     "text": [
      "[10, 10, 10]\n",
      "[10, 10, 10]\n",
      "[10, 10, 10]\n"
     ]
    }
   ],
   "source": [
    "x = [[1,2,3],  \n",
    "     [4,5,6],  \n",
    "     [7,8,9]]  \n",
    "  \n",
    "y = [[9,8,7],  \n",
    "     [6,5,4],  \n",
    "     [3,2,1]]  \n",
    "  \n",
    "result = [[0,0,0],  \n",
    "          [0,0,0],  \n",
    "          [0,0,0]]  \n",
    " \n",
    "for i in range(len(x)):\n",
    "    for j in range(len(x[0])):  \n",
    "       result[i][j] = x[i][j] + y[i][j]  \n",
    "for r in result:  \n",
    "   print(r)\n",
    "  \n",
    "   "
   ]
  },
  {
   "cell_type": "code",
   "execution_count": null,
   "metadata": {},
   "outputs": [],
   "source": []
  }
 ],
 "metadata": {
  "kernelspec": {
   "display_name": "Python 3",
   "language": "python",
   "name": "python3"
  },
  "language_info": {
   "codemirror_mode": {
    "name": "ipython",
    "version": 3
   },
   "file_extension": ".py",
   "mimetype": "text/x-python",
   "name": "python",
   "nbconvert_exporter": "python",
   "pygments_lexer": "ipython3",
   "version": "3.8.3"
  }
 },
 "nbformat": 4,
 "nbformat_minor": 4
}
