{
 "cells": [
  {
   "cell_type": "code",
   "execution_count": 3,
   "metadata": {},
   "outputs": [
    {
     "name": "stdout",
     "output_type": "stream",
     "text": [
      "[6013 2018 5060]\n"
     ]
    }
   ],
   "source": [
    "#creating an 1-d array\n",
    "import numpy as np \n",
    "a = np.array([6013,2018,5060]) \n",
    "print(a)"
   ]
  },
  {
   "cell_type": "code",
   "execution_count": 4,
   "metadata": {},
   "outputs": [
    {
     "name": "stdout",
     "output_type": "stream",
     "text": [
      "[[6013 2018]\n",
      " [5060   13]]\n"
     ]
    }
   ],
   "source": [
    "# more than one dimensions \n",
    "import numpy as np \n",
    "a = np.array([[6013,2018], [5060,13]]) \n",
    "print(a)"
   ]
  },
  {
   "cell_type": "code",
   "execution_count": 6,
   "metadata": {},
   "outputs": [
    {
     "name": "stdout",
     "output_type": "stream",
     "text": [
      "[[[6013   13 5060 2018]]]\n"
     ]
    }
   ],
   "source": [
    "# minimum dimensions \n",
    "import numpy as np \n",
    "a = np.array([6013,13,5060,2018], ndmin = 3) \n",
    "print(a)"
   ]
  },
  {
   "cell_type": "code",
   "execution_count": 7,
   "metadata": {},
   "outputs": [
    {
     "name": "stdout",
     "output_type": "stream",
     "text": [
      "[60.13+0.j 50.6 +0.j  1.3 +0.j]\n"
     ]
    }
   ],
   "source": [
    "#dtype parameter \n",
    "import numpy as np \n",
    "a = np.array([60.13,50.60,1.3], dtype = complex) \n",
    "print(a)"
   ]
  },
  {
   "cell_type": "code",
   "execution_count": 8,
   "metadata": {},
   "outputs": [
    {
     "name": "stdout",
     "output_type": "stream",
     "text": [
      "int32\n"
     ]
    }
   ],
   "source": [
    "#data type\n",
    "# using array-scalar type \n",
    "import numpy as np \n",
    "dt = np.dtype(np.int32) \n",
    "print(dt)"
   ]
  },
  {
   "cell_type": "code",
   "execution_count": 9,
   "metadata": {},
   "outputs": [
    {
     "name": "stdout",
     "output_type": "stream",
     "text": [
      "[('age', 'i1')]\n"
     ]
    }
   ],
   "source": [
    "#structured data type \n",
    "import numpy as np \n",
    "dt = np.dtype([('age',np.int8)]) \n",
    "print(dt)"
   ]
  }
 ],
 "metadata": {
  "kernelspec": {
   "display_name": "Python 3",
   "language": "python",
   "name": "python3"
  },
  "language_info": {
   "codemirror_mode": {
    "name": "ipython",
    "version": 3
   },
   "file_extension": ".py",
   "mimetype": "text/x-python",
   "name": "python",
   "nbconvert_exporter": "python",
   "pygments_lexer": "ipython3",
   "version": "3.8.3"
  }
 },
 "nbformat": 4,
 "nbformat_minor": 4
}
